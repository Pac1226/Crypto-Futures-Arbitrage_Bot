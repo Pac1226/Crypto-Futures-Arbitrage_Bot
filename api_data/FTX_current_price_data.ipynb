{
 "cells": [
  {
   "cell_type": "code",
   "execution_count": 7,
   "id": "62dd9d11-4f84-439f-a6b5-0641ebda5c21",
   "metadata": {},
   "outputs": [],
   "source": [
    "# Load required libaries + save as a new file to keep original template in tact\n",
    "import pandas as pd\n",
    "import os\n",
    "import json\n",
    "import sys\n",
    "import time\n",
    "import hmac\n",
    "import requests\n",
    "from ftx_functions import get_price"
   ]
  },
  {
   "cell_type": "code",
   "execution_count": 8,
   "id": "5f51bc0a-179a-4764-b3ec-9d1d5689ed08",
   "metadata": {},
   "outputs": [],
   "source": [
    "# All FTX Futures Markets: https://ftx.com/markets\n",
    "# 5 Coins Used for Application: BTC, ETH, SOL, XRP, MATIC"
   ]
  },
  {
   "cell_type": "code",
   "execution_count": 9,
   "id": "f4e0a332-07f3-4401-905c-1d4c849664ae",
   "metadata": {},
   "outputs": [
    {
     "name": "stdout",
     "output_type": "stream",
     "text": [
      "Pulling Today's Price for BTC/USD...\n",
      "Pulling Today's Price for ETH/USD...\n",
      "Pulling Today's Price for SOL/USD...\n",
      "Pulling Today's Price for XRP/USD...\n",
      "Pulling Today's Price for MATIC/USD...\n"
     ]
    }
   ],
   "source": [
    "# Pulls TODAY'S SPOT prices for BTC, ETH, SOL, XRP MATIC from FTX\n",
    "btc_spot = get_price(\"BTC/USD\")\n",
    "eth_spot = get_price(\"ETH/USD\")\n",
    "sol_spot = get_price(\"SOL/USD\")\n",
    "xrp_spot = get_price(\"XRP/USD\")\n",
    "matic_spot = get_price(\"MATIC/USD\")\n"
   ]
  },
  {
   "cell_type": "code",
   "execution_count": 10,
   "id": "edd9245f-e96a-4a29-a85c-683be8945317",
   "metadata": {},
   "outputs": [
    {
     "name": "stdout",
     "output_type": "stream",
     "text": [
      "Current Spot Prices\n"
     ]
    },
    {
     "data": {
      "text/html": [
       "<div>\n",
       "<style scoped>\n",
       "    .dataframe tbody tr th:only-of-type {\n",
       "        vertical-align: middle;\n",
       "    }\n",
       "\n",
       "    .dataframe tbody tr th {\n",
       "        vertical-align: top;\n",
       "    }\n",
       "\n",
       "    .dataframe thead th {\n",
       "        text-align: right;\n",
       "    }\n",
       "</style>\n",
       "<table border=\"1\" class=\"dataframe\">\n",
       "  <thead>\n",
       "    <tr style=\"text-align: right;\">\n",
       "      <th></th>\n",
       "      <th>Current Price</th>\n",
       "    </tr>\n",
       "  </thead>\n",
       "  <tbody>\n",
       "    <tr>\n",
       "      <th>BTC/USD</th>\n",
       "      <td>43046.0</td>\n",
       "    </tr>\n",
       "    <tr>\n",
       "      <th>ETH/USD</th>\n",
       "      <td>3058.4</td>\n",
       "    </tr>\n",
       "    <tr>\n",
       "      <th>SOL/USD</th>\n",
       "      <td>111.755</td>\n",
       "    </tr>\n",
       "    <tr>\n",
       "      <th>XRP/USD</th>\n",
       "      <td>0.815025</td>\n",
       "    </tr>\n",
       "    <tr>\n",
       "      <th>MATIC/USD</th>\n",
       "      <td>1.896651</td>\n",
       "    </tr>\n",
       "  </tbody>\n",
       "</table>\n",
       "</div>"
      ],
      "text/plain": [
       "          Current Price\n",
       "BTC/USD         43046.0\n",
       "ETH/USD          3058.4\n",
       "SOL/USD         111.755\n",
       "XRP/USD        0.815025\n",
       "MATIC/USD      1.896651"
      ]
     },
     "metadata": {},
     "output_type": "display_data"
    }
   ],
   "source": [
    "# Combines all the price data into a single DataFrame\n",
    "spot_prices = pd.concat([btc_spot, eth_spot, sol_spot, xrp_spot, matic_spot], axis=\"rows\", join=\"inner\")\n",
    "print(\"Current Spot Prices\")\n",
    "display(spot_prices)"
   ]
  },
  {
   "cell_type": "code",
   "execution_count": 11,
   "id": "96992748-9b7a-47ba-9431-2f875b89da30",
   "metadata": {},
   "outputs": [
    {
     "name": "stdout",
     "output_type": "stream",
     "text": [
      "Pulling Today's Price for BTC-PERP...\n",
      "Pulling Today's Price for ETH-PERP...\n",
      "Pulling Today's Price for SOL-PERP...\n",
      "Pulling Today's Price for XRP-PERP...\n",
      "Pulling Today's Price for MATIC-PERP...\n"
     ]
    }
   ],
   "source": [
    "# Pulls TODAY's FUTURES prices for BTC, ETH, SOL, XRP, MATIC from FTX\n",
    "btc_futures = get_price(\"BTC-PERP\")\n",
    "eth_futures = get_price(\"ETH-PERP\")\n",
    "sol_futures = get_price(\"SOL-PERP\")\n",
    "xrp_futures = get_price(\"XRP-PERP\")\n",
    "matic_futures = get_price(\"MATIC-PERP\")\n"
   ]
  },
  {
   "cell_type": "code",
   "execution_count": 12,
   "id": "2ec0abca-8a9d-44ff-8ba2-7e8647dfb33b",
   "metadata": {},
   "outputs": [
    {
     "name": "stdout",
     "output_type": "stream",
     "text": [
      "Current Futures Prices\n"
     ]
    },
    {
     "data": {
      "text/html": [
       "<div>\n",
       "<style scoped>\n",
       "    .dataframe tbody tr th:only-of-type {\n",
       "        vertical-align: middle;\n",
       "    }\n",
       "\n",
       "    .dataframe tbody tr th {\n",
       "        vertical-align: top;\n",
       "    }\n",
       "\n",
       "    .dataframe thead th {\n",
       "        text-align: right;\n",
       "    }\n",
       "</style>\n",
       "<table border=\"1\" class=\"dataframe\">\n",
       "  <thead>\n",
       "    <tr style=\"text-align: right;\">\n",
       "      <th></th>\n",
       "      <th>Current Price</th>\n",
       "    </tr>\n",
       "  </thead>\n",
       "  <tbody>\n",
       "    <tr>\n",
       "      <th>BTC-PERP</th>\n",
       "      <td>43043.0</td>\n",
       "    </tr>\n",
       "    <tr>\n",
       "      <th>ETH-PERP</th>\n",
       "      <td>3058.5</td>\n",
       "    </tr>\n",
       "    <tr>\n",
       "      <th>SOL-PERP</th>\n",
       "      <td>111.7975</td>\n",
       "    </tr>\n",
       "    <tr>\n",
       "      <th>XRP-PERP</th>\n",
       "      <td>0.815375</td>\n",
       "    </tr>\n",
       "    <tr>\n",
       "      <th>MATIC-PERP</th>\n",
       "      <td>1.896585</td>\n",
       "    </tr>\n",
       "  </tbody>\n",
       "</table>\n",
       "</div>"
      ],
      "text/plain": [
       "           Current Price\n",
       "BTC-PERP         43043.0\n",
       "ETH-PERP          3058.5\n",
       "SOL-PERP        111.7975\n",
       "XRP-PERP        0.815375\n",
       "MATIC-PERP      1.896585"
      ]
     },
     "metadata": {},
     "output_type": "display_data"
    }
   ],
   "source": [
    "# Combines all the price data into a single DataFrame\n",
    "futures_prices = pd.concat([btc_futures, eth_futures, sol_futures, xrp_futures, matic_futures], axis=\"rows\", join=\"inner\")\n",
    "print(\"Current Futures Prices\")\n",
    "display(futures_prices)"
   ]
  },
  {
   "cell_type": "code",
   "execution_count": null,
   "id": "3fa93a12-3fb3-41e1-9be7-937c52695bba",
   "metadata": {},
   "outputs": [],
   "source": []
  },
  {
   "cell_type": "code",
   "execution_count": null,
   "id": "e317a035-dd54-4118-aaa1-f36b048b3a00",
   "metadata": {},
   "outputs": [],
   "source": []
  }
 ],
 "metadata": {
  "kernelspec": {
   "display_name": "dev",
   "language": "python",
   "name": "dev"
  },
  "language_info": {
   "codemirror_mode": {
    "name": "ipython",
    "version": 3
   },
   "file_extension": ".py",
   "mimetype": "text/x-python",
   "name": "python",
   "nbconvert_exporter": "python",
   "pygments_lexer": "ipython3",
   "version": "3.7.11"
  }
 },
 "nbformat": 4,
 "nbformat_minor": 5
}
