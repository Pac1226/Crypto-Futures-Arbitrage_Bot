{
 "cells": [
  {
   "cell_type": "code",
   "execution_count": 2,
   "id": "3de1eb75-353a-45f6-9173-6dc5c830d9e9",
   "metadata": {},
   "outputs": [
    {
     "name": "stdout",
     "output_type": "stream",
     "text": [
      "Congratulations, we have matched you with an investor. Investor 1 will loan you $ 80000 at 3.0 %\n"
     ]
    }
   ],
   "source": [
    "import pandas as pd\n",
    "from path import Path\n",
    "from users import get_users\n",
    "from investors import get_investors\n",
    "from usersLoanBook import get_usersLoanBook\n",
    "from userLoanApproval import userLoanApproval\n",
    " \n",
    "user_df = get_users()\n",
    "investor_df = get_investors()\n",
    "usersLoanBook_df = get_usersLoanBook()\n",
    " \n",
    "userID = 'U10005'\n",
    "loanRequest = 80000\n",
    "investor_selected = userLoanApproval(userID,loanRequest)"
   ]
  },
  {
   "cell_type": "code",
   "execution_count": 3,
   "id": "7b6e97e3-4ffc-432a-998c-7d78c94c5826",
   "metadata": {},
   "outputs": [
    {
     "name": "stdout",
     "output_type": "stream",
     "text": [
      "Pulling Today's Price for BTC/USD...\n",
      "Pulling Today's Price for ETH/USD...\n",
      "Pulling Today's Price for BTC/USD...\n",
      "Pulling Today's Price for ETH/USD...\n",
      "Pulling Today's Price for BTC-0325...\n",
      "Pulling Today's Price for BTC-0624...\n",
      "Pulling Today's Price for ETH-0325...\n",
      "Pulling Today's Price for ETH-0624...\n",
      "  exchange underlying    symbol expiration annualizedReturn  userID\n",
      "1      FTX        BTC  BTC-0624 2022-06-24          0.19983  U10005\n",
      "3      FTX        ETH  ETH-0624 2022-06-24         0.156362  U10005\n"
     ]
    }
   ],
   "source": [
    "from arbOpportunities import arbOpportunities\n",
    "arbOpportunities()"
   ]
  }
 ],
 "metadata": {
  "kernelspec": {
   "display_name": "Python 3 (ipykernel)",
   "language": "python",
   "name": "python3"
  },
  "language_info": {
   "codemirror_mode": {
    "name": "ipython",
    "version": 3
   },
   "file_extension": ".py",
   "mimetype": "text/x-python",
   "name": "python",
   "nbconvert_exporter": "python",
   "pygments_lexer": "ipython3",
   "version": "3.7.11"
  }
 },
 "nbformat": 4,
 "nbformat_minor": 5
}
